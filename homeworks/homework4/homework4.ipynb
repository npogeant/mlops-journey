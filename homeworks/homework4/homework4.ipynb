{
  "cells": [
    {
      "cell_type": "markdown",
      "metadata": {
        "id": "efxR2MUhyWrl"
      },
      "source": [
        "# MLOps-Zoomcamp Homework 4"
      ]
    },
    {
      "cell_type": "markdown",
      "metadata": {
        "id": "ITKRHFG8yg_p"
      },
      "source": [
        "Based on [these questions](https://github.com/DataTalksClub/mlops-zoomcamp/blob/main/04-deployment/homework.md)."
      ]
    },
    {
      "cell_type": "markdown",
      "metadata": {
        "id": "VwBqUNdjnZMr"
      },
      "source": [
        "## Q1. Notebook"
      ]
    },
    {
      "cell_type": "markdown",
      "metadata": {},
      "source": [
        "The mean predicted duration for this dataset is **16.19** !"
      ]
    },
    {
      "cell_type": "markdown",
      "metadata": {},
      "source": [
        "## Q2. Preparing the output"
      ]
    },
    {
      "cell_type": "markdown",
      "metadata": {},
      "source": [
        "The size of the output file is **19M** !"
      ]
    },
    {
      "cell_type": "markdown",
      "metadata": {},
      "source": [
        "## Q3. Creating the scoring script"
      ]
    },
    {
      "cell_type": "markdown",
      "metadata": {},
      "source": [
        "The command is : **jupyter nbconvert starter.ipynb --to python** !"
      ]
    },
    {
      "cell_type": "markdown",
      "metadata": {},
      "source": [
        "## Q4. Virtual environment"
      ]
    },
    {
      "cell_type": "markdown",
      "metadata": {},
      "source": [
        "The first hash of Scikit-Learn dependency is : **sha256:08ef968f6b72033c16c479c966bf37ccd49b06ea91b765e1cc27afefe723920b** !"
      ]
    },
    {
      "cell_type": "markdown",
      "metadata": {},
      "source": [
        "## Q5. Parametrize the script"
      ]
    },
    {
      "cell_type": "markdown",
      "metadata": {},
      "source": [
        "The mean predicted duration for the model trained on March 2021 is **16.29** !"
      ]
    },
    {
      "cell_type": "markdown",
      "metadata": {},
      "source": [
        "## Q6. Docker contaner"
      ]
    },
    {
      "cell_type": "markdown",
      "metadata": {},
      "source": [
        "The mean predicted duration for April 2021 is **9.96** !"
      ]
    }
  ],
  "metadata": {
    "colab": {
      "authorship_tag": "ABX9TyPBVX0GhdODDJuRGdFsH2Pp",
      "collapsed_sections": [],
      "name": "homework1.ipynb",
      "provenance": []
    },
    "kernelspec": {
      "display_name": "Python 3.7.13 ('mlflow-env')",
      "language": "python",
      "name": "python3"
    },
    "language_info": {
      "codemirror_mode": {
        "name": "ipython",
        "version": 3
      },
      "file_extension": ".py",
      "mimetype": "text/x-python",
      "name": "python",
      "nbconvert_exporter": "python",
      "pygments_lexer": "ipython3",
      "version": "3.7.13"
    },
    "vscode": {
      "interpreter": {
        "hash": "b59015e4452ae0f45cd92cdee43a1217c234339d8c3a69f20dfe05e07e7e5e16"
      }
    }
  },
  "nbformat": 4,
  "nbformat_minor": 0
}
