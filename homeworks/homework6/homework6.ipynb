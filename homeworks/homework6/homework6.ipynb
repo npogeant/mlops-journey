{
  "cells": [
    {
      "cell_type": "markdown",
      "metadata": {
        "id": "efxR2MUhyWrl"
      },
      "source": [
        "# MLOps-Zoomcamp Homework 6"
      ]
    },
    {
      "cell_type": "markdown",
      "metadata": {
        "id": "ITKRHFG8yg_p"
      },
      "source": [
        "Based on [these questions](https://github.com/DataTalksClub/mlops-zoomcamp/blob/main/06-best-practices/homework.md)."
      ]
    },
    {
      "cell_type": "markdown",
      "metadata": {
        "id": "VwBqUNdjnZMr"
      },
      "source": [
        "## Q1. Refactoring"
      ]
    },
    {
      "cell_type": "markdown",
      "metadata": {},
      "source": [
        "The if statement looks like : **if __name__ == '__main__':**"
      ]
    },
    {
      "cell_type": "markdown",
      "metadata": {},
      "source": [
        "## Q2. Installing pytest"
      ]
    },
    {
      "cell_type": "markdown",
      "metadata": {},
      "source": [
        "The other file needed is **__input__.py**"
      ]
    },
    {
      "cell_type": "markdown",
      "metadata": {},
      "source": [
        "## Q3. Writing first unit test"
      ]
    },
    {
      "cell_type": "markdown",
      "metadata": {},
      "source": [
        "The expected dataframe should have **2 rows**."
      ]
    },
    {
      "cell_type": "markdown",
      "metadata": {},
      "source": [
        "## Q4. Mocking S3 with Localstack"
      ]
    },
    {
      "cell_type": "markdown",
      "metadata": {},
      "source": [
        "With localhost, create a bucket looks like that : aws --endpoint-url=http://localhost:4566 s3 mb s3://nyc-duration "
      ]
    },
    {
      "cell_type": "markdown",
      "metadata": {},
      "source": [
        "## Q5. Creating test data"
      ]
    },
    {
      "cell_type": "markdown",
      "metadata": {},
      "source": [
        "The size of the parquet file in the bucket is **3504** (3512)"
      ]
    },
    {
      "cell_type": "markdown",
      "metadata": {},
      "source": [
        "## Q6. Finish the integration test"
      ]
    },
    {
      "cell_type": "markdown",
      "metadata": {},
      "source": []
    }
  ],
  "metadata": {
    "colab": {
      "authorship_tag": "ABX9TyPBVX0GhdODDJuRGdFsH2Pp",
      "collapsed_sections": [],
      "name": "homework1.ipynb",
      "provenance": []
    },
    "kernelspec": {
      "display_name": "Python 3.7.13 ('mlflow-env')",
      "language": "python",
      "name": "python3"
    },
    "language_info": {
      "codemirror_mode": {
        "name": "ipython",
        "version": 3
      },
      "file_extension": ".py",
      "mimetype": "text/x-python",
      "name": "python",
      "nbconvert_exporter": "python",
      "pygments_lexer": "ipython3",
      "version": "3.7.13"
    },
    "vscode": {
      "interpreter": {
        "hash": "b59015e4452ae0f45cd92cdee43a1217c234339d8c3a69f20dfe05e07e7e5e16"
      }
    }
  },
  "nbformat": 4,
  "nbformat_minor": 0
}
