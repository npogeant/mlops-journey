{
  "cells": [
    {
      "cell_type": "markdown",
      "metadata": {
        "id": "efxR2MUhyWrl"
      },
      "source": [
        "# MLOps-Zoomcamp Homework 1"
      ]
    },
    {
      "cell_type": "markdown",
      "metadata": {
        "id": "ITKRHFG8yg_p"
      },
      "source": [
        "Based on [these questions](https://github.com/DataTalksClub/mlops-zoomcamp/blob/main/01-intro/homework.md)."
      ]
    },
    {
      "cell_type": "code",
      "execution_count": 127,
      "metadata": {
        "id": "KbtQwdRPhgvB"
      },
      "outputs": [],
      "source": [
        "import pandas as pd\n",
        "import numpy as np\n",
        "\n",
        "import seaborn as sns\n",
        "import matplotlib.pyplot as plt\n",
        "\n",
        "from sklearn.feature_extraction import DictVectorizer\n",
        "from sklearn.linear_model import LinearRegression\n",
        "\n",
        "from sklearn.metrics import mean_squared_error"
      ]
    },
    {
      "cell_type": "markdown",
      "metadata": {
        "id": "VwBqUNdjnZMr"
      },
      "source": [
        "## Q1. Downloading the data"
      ]
    },
    {
      "cell_type": "code",
      "execution_count": 128,
      "metadata": {
        "id": "u26uSLM0kfC9"
      },
      "outputs": [],
      "source": [
        "data_url_1 = \"https://nyc-tlc.s3.amazonaws.com/trip+data/fhv_tripdata_2021-01.parquet\"\n",
        "data_url_2 = \"https://nyc-tlc.s3.amazonaws.com/trip+data/fhv_tripdata_2021-02.parquet\""
      ]
    },
    {
      "cell_type": "code",
      "execution_count": 129,
      "metadata": {
        "id": "IO68kWp_kVwc"
      },
      "outputs": [],
      "source": [
        "jan_data = pd.read_parquet(data_url_1)\n",
        "feb_data = pd.read_parquet(data_url_1)"
      ]
    },
    {
      "cell_type": "code",
      "execution_count": 130,
      "metadata": {
        "colab": {
          "base_uri": "https://localhost:8080/"
        },
        "id": "vKIInIgCkpyp",
        "outputId": "161706d4-bc24-4505-fc62-76f9c194f96d"
      },
      "outputs": [
        {
          "name": "stdout",
          "output_type": "stream",
          "text": [
            "There are 1154112 records in the January dataset!\n"
          ]
        }
      ],
      "source": [
        "print(f\"There are {jan_data.shape[0]} records in the January dataset!\")"
      ]
    },
    {
      "cell_type": "code",
      "execution_count": 131,
      "metadata": {
        "colab": {
          "base_uri": "https://localhost:8080/"
        },
        "id": "hHIsAbBplNLy",
        "outputId": "37d9aec7-1948-4ff6-a915-2ca2b298f4a3"
      },
      "outputs": [
        {
          "data": {
            "text/plain": [
              "dispatching_base_num              object\n",
              "pickup_datetime           datetime64[ns]\n",
              "dropOff_datetime          datetime64[ns]\n",
              "PUlocationID                     float64\n",
              "DOlocationID                     float64\n",
              "SR_Flag                           object\n",
              "Affiliated_base_number            object\n",
              "dtype: object"
            ]
          },
          "execution_count": 131,
          "metadata": {},
          "output_type": "execute_result"
        }
      ],
      "source": [
        "jan_data.dtypes"
      ]
    },
    {
      "cell_type": "markdown",
      "metadata": {
        "id": "FV1H_5SDncwr"
      },
      "source": [
        "## Q2. Computing duration"
      ]
    },
    {
      "cell_type": "code",
      "execution_count": 132,
      "metadata": {
        "id": "9ZAkn7cwlT35"
      },
      "outputs": [],
      "source": [
        "jan_data['duration'] = jan_data['dropOff_datetime'] - jan_data['pickup_datetime']\n",
        "jan_data['duration'] = jan_data['duration'].apply(lambda x: x.total_seconds() / 60)"
      ]
    },
    {
      "cell_type": "code",
      "execution_count": 133,
      "metadata": {
        "colab": {
          "base_uri": "https://localhost:8080/"
        },
        "id": "XMd_1sx9ldk-",
        "outputId": "f963ab09-5036-40c1-faf5-c7e730486a27"
      },
      "outputs": [
        {
          "name": "stdout",
          "output_type": "stream",
          "text": [
            "The average trip duration in January is 19.17 minutes!\n"
          ]
        }
      ],
      "source": [
        "print(f\"The average trip duration in January is {round(jan_data['duration'].mean(), 2)} minutes!\")"
      ]
    },
    {
      "cell_type": "code",
      "execution_count": 134,
      "metadata": {
        "colab": {
          "base_uri": "https://localhost:8080/",
          "height": 370
        },
        "id": "LsO6cAsYloPJ",
        "outputId": "7095f865-f540-4a29-a933-4cdedca5d39f"
      },
      "outputs": [
        {
          "name": "stderr",
          "output_type": "stream",
          "text": [
            "/usr/local/lib/python3.7/dist-packages/seaborn/distributions.py:2619: FutureWarning: `distplot` is a deprecated function and will be removed in a future version. Please adapt your code to use either `displot` (a figure-level function with similar flexibility) or `histplot` (an axes-level function for histograms).\n",
            "  warnings.warn(msg, FutureWarning)\n",
            "No handles with labels found to put in legend.\n"
          ]
        },
        {
          "data": {
            "text/plain": [
              "<matplotlib.legend.Legend at 0x7fe15afe7d90>"
            ]
          },
          "execution_count": 134,
          "metadata": {},
          "output_type": "execute_result"
        },
        {
          "data": {
            "image/png": "[encoded data removed]",
            "text/plain": [
              "<Figure size 432x288 with 1 Axes>"
            ]
          },
          "metadata": {
            "needs_background": "light"
          },
          "output_type": "display_data"
        }
      ],
      "source": [
        "# Duration columns distribution\n",
        "\n",
        "sns.distplot(jan_data['duration'])\n",
        "plt.legend()"
      ]
    },
    {
      "cell_type": "code",
      "execution_count": 135,
      "metadata": {
        "id": "29TaNoHYmzrt"
      },
      "outputs": [],
      "source": [
        "jan_data = jan_data[(jan_data['duration'] >= 1) & (jan_data['duration'] <= 60)]"
      ]
    },
    {
      "cell_type": "code",
      "execution_count": 136,
      "metadata": {
        "colab": {
          "base_uri": "https://localhost:8080/"
        },
        "id": "_RHsoTsVm8JY",
        "outputId": "138d0695-efcf-4d07-f170-2808ec07cba5"
      },
      "outputs": [
        {
          "data": {
            "text/plain": [
              "(1109826, 8)"
            ]
          },
          "execution_count": 136,
          "metadata": {},
          "output_type": "execute_result"
        }
      ],
      "source": [
        "jan_data.shape"
      ]
    },
    {
      "cell_type": "code",
      "execution_count": 137,
      "metadata": {
        "colab": {
          "base_uri": "https://localhost:8080/"
        },
        "id": "MTVWTqgtnExJ",
        "outputId": "2ef60808-f163-4ba7-bf74-83b5f0a4fe44"
      },
      "outputs": [
        {
          "name": "stdout",
          "output_type": "stream",
          "text": [
            "44286 records where dropped\n"
          ]
        }
      ],
      "source": [
        "print(f'{1154112 - jan_data.shape[0]} records where dropped')"
      ]
    },
    {
      "cell_type": "markdown",
      "metadata": {
        "id": "1ooNo2BOnfxn"
      },
      "source": [
        "## Q3. Missing values"
      ]
    },
    {
      "cell_type": "code",
      "execution_count": 138,
      "metadata": {
        "colab": {
          "base_uri": "https://localhost:8080/"
        },
        "id": "acrL-7O4nSGA",
        "outputId": "fc93760f-5d1f-4954-b968-825afa2bf38e"
      },
      "outputs": [
        {
          "data": {
            "text/plain": [
              "(927008, 147907)"
            ]
          },
          "execution_count": 138,
          "metadata": {},
          "output_type": "execute_result"
        }
      ],
      "source": [
        "jan_data['PUlocationID'].isnull().sum(), jan_data['DOlocationID'].isnull().sum()"
      ]
    },
    {
      "cell_type": "code",
      "execution_count": 139,
      "metadata": {
        "colab": {
          "base_uri": "https://localhost:8080/"
        },
        "id": "sUt_SfmRnqMS",
        "outputId": "3fea035e-5671-4221-eed5-481898c1e119"
      },
      "outputs": [
        {
          "name": "stderr",
          "output_type": "stream",
          "text": [
            "/usr/local/lib/python3.7/dist-packages/pandas/core/frame.py:3641: SettingWithCopyWarning: \n",
            "A value is trying to be set on a copy of a slice from a DataFrame.\n",
            "Try using .loc[row_indexer,col_indexer] = value instead\n",
            "\n",
            "See the caveats in the documentation: https://pandas.pydata.org/pandas-docs/stable/user_guide/indexing.html#returning-a-view-versus-a-copy\n",
            "  self[k1] = value[k2]\n"
          ]
        }
      ],
      "source": [
        "jan_data[['PUlocationID', 'DOlocationID']] = jan_data[['PUlocationID', 'DOlocationID']].fillna(value=-1)"
      ]
    },
    {
      "cell_type": "code",
      "execution_count": 140,
      "metadata": {
        "colab": {
          "base_uri": "https://localhost:8080/"
        },
        "id": "wy1bmkjhogum",
        "outputId": "c27a305b-368e-493c-a744-f6059e290d90"
      },
      "outputs": [
        {
          "data": {
            "text/plain": [
              "(0, 0)"
            ]
          },
          "execution_count": 140,
          "metadata": {},
          "output_type": "execute_result"
        }
      ],
      "source": [
        "jan_data['PUlocationID'].isnull().sum(), jan_data['DOlocationID'].isnull().sum()"
      ]
    },
    {
      "cell_type": "code",
      "execution_count": 141,
      "metadata": {
        "id": "XzuVuVARoLsG"
      },
      "outputs": [],
      "source": [
        "pu_na_count = jan_data[['PUlocationID']].value_counts()[-1]"
      ]
    },
    {
      "cell_type": "code",
      "execution_count": 142,
      "metadata": {
        "colab": {
          "base_uri": "https://localhost:8080/"
        },
        "id": "tockn8ObovBf",
        "outputId": "51173303-7ee2-475e-926e-58b534fa2fe3"
      },
      "outputs": [
        {
          "name": "stdout",
          "output_type": "stream",
          "text": [
            "The fractions of missing values for the pickup location ID is 84%\n"
          ]
        }
      ],
      "source": [
        "print(f'The fractions of missing values for the pickup location ID is {round((pu_na_count / jan_data.shape[0]) * 100)}%')"
      ]
    },
    {
      "cell_type": "markdown",
      "metadata": {
        "id": "KmerkK8WqdR7"
      },
      "source": [
        "## Q4. One-hot encoding"
      ]
    },
    {
      "cell_type": "code",
      "execution_count": 143,
      "metadata": {
        "id": "S4MYgznuqQUz"
      },
      "outputs": [],
      "source": [
        "categorical = ['PUlocationID', 'DOlocationID']\n",
        "\n",
        "jan_data[categorical] = jan_data[categorical].astype(str)\n",
        "jan_dicts = jan_data[categorical].to_dict(orient='records')\n",
        "\n",
        "dv = DictVectorizer()\n",
        "X_train = dv.fit_transform(jan_dicts)"
      ]
    },
    {
      "cell_type": "code",
      "execution_count": 144,
      "metadata": {
        "colab": {
          "base_uri": "https://localhost:8080/"
        },
        "id": "4QEuC0HIrK6K",
        "outputId": "2bab59cd-2652-48f8-99f2-4a6604fb397d"
      },
      "outputs": [
        {
          "name": "stdout",
          "output_type": "stream",
          "text": [
            "The dimensionality of the matrix is 525!\n"
          ]
        }
      ],
      "source": [
        "print(f'The dimensionality of the matrix is {len(dv.feature_names_)}!')"
      ]
    },
    {
      "cell_type": "markdown",
      "metadata": {
        "id": "vSU-P8JErtTR"
      },
      "source": [
        "## Q5. Training a model"
      ]
    },
    {
      "cell_type": "code",
      "execution_count": 145,
      "metadata": {
        "colab": {
          "base_uri": "https://localhost:8080/"
        },
        "id": "FXOH8woStq_y",
        "outputId": "37c89279-ffaa-436a-db9a-dca007639eb9"
      },
      "outputs": [
        {
          "name": "stdout",
          "output_type": "stream",
          "text": [
            "The RMSE score is 10.53!\n"
          ]
        }
      ],
      "source": [
        "target = 'duration'\n",
        "y_train = jan_data[target].values\n",
        "\n",
        "lr = LinearRegression()\n",
        "lr.fit(X_train, y_train)\n",
        "\n",
        "y_pred = lr.predict(X_train)\n",
        "\n",
        "rmse_score = mean_squared_error(y_train, y_pred, squared=False)\n",
        "\n",
        "print(f'The RMSE score is {round(rmse_score, 2)}!')"
      ]
    },
    {
      "cell_type": "markdown",
      "metadata": {
        "id": "4liR-_SJu6FG"
      },
      "source": [
        "## Q6. Evaluating the model"
      ]
    },
    {
      "cell_type": "code",
      "execution_count": 146,
      "metadata": {
        "id": "s1-d_OXUu3z5"
      },
      "outputs": [],
      "source": [
        "def data_preprocessing(url_path):\n",
        "  ''' A function that gets the data and preprocess it.\n",
        "\n",
        "      Args :\n",
        "        - url_path : a URL that refers to parquet data \n",
        "                     from  https://www1.nyc.gov/site/tlc/about/tlc-trip-record-data.page.\n",
        "      \n",
        "      Returns:\n",
        "        A dataframe.\n",
        "  '''\n",
        "\n",
        "  # Get the data from the URL\n",
        "  df = pd.read_parquet(url_path)\n",
        "\n",
        "  # Add a new column\n",
        "  df['duration'] = df['dropOff_datetime'] - df['pickup_datetime']\n",
        "  df['duration'] = df['duration'].apply(lambda x: x.total_seconds() / 60)\n",
        "\n",
        "  # Filter this new column based on conditions\n",
        "  df = df[(df['duration'] >= 1) & (df['duration'] <= 60)]\n",
        "\n",
        "  # Fill NA values \n",
        "  df[['PUlocationID', 'DOlocationID']] = df[['PUlocationID', 'DOlocationID']].fillna(value=-1)\n",
        "\n",
        "  # Change the type of some columns\n",
        "  categorical = ['PUlocationID', 'DOlocationID']\n",
        "  df[categorical] = df[categorical].astype(str)\n",
        "\n",
        "  return df"
      ]
    },
    {
      "cell_type": "code",
      "execution_count": 147,
      "metadata": {
        "id": "A7cghZMBwWqK"
      },
      "outputs": [],
      "source": [
        "feb_data = data_preprocessing(data_url_2)\n",
        "\n",
        "categorical = ['PUlocationID', 'DOlocationID']\n",
        "feb_dicts = feb_data[categorical].to_dict(orient='records')\n",
        "\n",
        "X_valid = dv.transform(feb_dicts)"
      ]
    },
    {
      "cell_type": "code",
      "execution_count": 148,
      "metadata": {
        "colab": {
          "base_uri": "https://localhost:8080/"
        },
        "id": "3BQWhcRxxjMG",
        "outputId": "525c67bd-476b-41f5-e220-637a0bd929c1"
      },
      "outputs": [
        {
          "data": {
            "text/plain": [
              "525"
            ]
          },
          "execution_count": 148,
          "metadata": {},
          "output_type": "execute_result"
        }
      ],
      "source": [
        "len(dv.feature_names_)"
      ]
    },
    {
      "cell_type": "code",
      "execution_count": 149,
      "metadata": {
        "colab": {
          "base_uri": "https://localhost:8080/"
        },
        "id": "MIr2_Lj6wpoI",
        "outputId": "41a364b0-9da8-457d-d4ee-3cebbe1d322a"
      },
      "outputs": [
        {
          "name": "stdout",
          "output_type": "stream",
          "text": [
            "The RMSE score of the validation dataset is 11.01!\n"
          ]
        }
      ],
      "source": [
        "target = 'duration'\n",
        "y_valid = feb_data[target].values\n",
        "\n",
        "y_pred = lr.predict(X_valid)\n",
        "\n",
        "rmse_score = mean_squared_error(y_valid, y_pred, squared=False)\n",
        "\n",
        "print(f'The RMSE score of the validation dataset is {round(rmse_score, 2)}!')"
      ]
    }
  ],
  "metadata": {
    "colab": {
      "authorship_tag": "ABX9TyPBVX0GhdODDJuRGdFsH2Pp",
      "collapsed_sections": [],
      "name": "homework1.ipynb",
      "provenance": []
    },
    "kernelspec": {
      "display_name": "Python 3",
      "name": "python3"
    },
    "language_info": {
      "name": "python"
    }
  },
  "nbformat": 4,
  "nbformat_minor": 0
}
